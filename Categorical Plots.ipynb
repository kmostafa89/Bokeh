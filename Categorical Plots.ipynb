{
 "cells": [
  {
   "cell_type": "code",
   "execution_count": 1,
   "metadata": {},
   "outputs": [],
   "source": [
    "from bokeh.plotting import figure  , output_file , show\n",
    "from bokeh.models import Range1d\n",
    "\n",
    "X = [\"A+\",\"A\",\"A-\",\"B+\", \"B\",\"B-\",\"C+\", \"C\",\"C-\",\"D+\",\"D\",\"D-\",\"F\"]\n",
    "\n",
    "output_file(\"students.html\")\n",
    "f = figure(x_range= X[::-1],\n",
    "        y_range= X[::-1])\n",
    "\n",
    "f.circle(x=[\"A\",\"B\"], y = [\"C\",\"D\"], size = 8)\n",
    "\n",
    "show(f)"
   ]
  }
 ],
 "metadata": {
  "kernelspec": {
   "display_name": "Python 3",
   "language": "python",
   "name": "python3"
  },
  "language_info": {
   "codemirror_mode": {
    "name": "ipython",
    "version": 3
   },
   "file_extension": ".py",
   "mimetype": "text/x-python",
   "name": "python",
   "nbconvert_exporter": "python",
   "pygments_lexer": "ipython3",
   "version": "3.6.1"
  }
 },
 "nbformat": 4,
 "nbformat_minor": 2
}
